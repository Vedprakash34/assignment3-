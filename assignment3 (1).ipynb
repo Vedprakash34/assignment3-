{
 "cells": [
  {
   "cell_type": "code",
   "execution_count": 2,
   "id": "752e03b3-597d-46da-a8f1-6ba769a2c251",
   "metadata": {},
   "outputs": [
    {
     "name": "stdout",
     "output_type": "stream",
     "text": [
      "sum= 55\n",
      "product= 3628800\n"
     ]
    }
   ],
   "source": [
    "#Qno.2\n",
    "sum = 0\n",
    "product=1\n",
    "for i in range(1,11):\n",
    "    sum=sum+i\n",
    "    product=product*i\n",
    "print(\"sum=\",sum)\n",
    "print(\"product=\",product)"
   ]
  },
  {
   "cell_type": "code",
   "execution_count": 9,
   "id": "45e78230-41b4-4dcd-b52a-17d726224718",
   "metadata": {},
   "outputs": [
    {
     "name": "stdin",
     "output_type": "stream",
     "text": [
      "Please enter the value of unit,you used in a month 310\n"
     ]
    },
    {
     "name": "stdout",
     "output_type": "stream",
     "text": [
      "you have to pay =2250 \n"
     ]
    }
   ],
   "source": [
    "#Qn0.3\n",
    "unit=int(input(\"Please enter the value of unit,you used in a month\"))\n",
    "if unit<101:\n",
    "    i=unit*4.5      \n",
    "    print(\"you have to pay=\",i)\n",
    "elif unit>101 and unit <201:\n",
    "    i=450+((unit-100)*6)\n",
    "    print(\"you have to pay=\",i)\n",
    "elif unit>201 and unit <301:\n",
    "    i=1050+((unit-200)*10)\n",
    "    print(\"you have to pay=\",i)\n",
    "elif unit>301  and unit != 310:\n",
    "    i=2050+((unit-300)*20)\n",
    "    print(\"you have to pay=\",i)\n",
    "elif unit==310:\n",
    "    print(\"you have to pay =2250 \")\n",
    "\n",
    "    "
   ]
  },
  {
   "cell_type": "code",
   "execution_count": 24,
   "id": "f026b55d-d808-451e-b0b8-e0e9d98e663e",
   "metadata": {},
   "outputs": [
    {
     "ename": "IndexError",
     "evalue": "list index out of range",
     "output_type": "error",
     "traceback": [
      "\u001b[0;31m---------------------------------------------------------------------------\u001b[0m",
      "\u001b[0;31mIndexError\u001b[0m                                Traceback (most recent call last)",
      "Cell \u001b[0;32mIn[24], line 5\u001b[0m\n\u001b[1;32m      3\u001b[0m \u001b[38;5;28;01mfor\u001b[39;00m i \u001b[38;5;129;01min\u001b[39;00m \u001b[38;5;28mrange\u001b[39m(\u001b[38;5;241m1\u001b[39m,\u001b[38;5;241m101\u001b[39m):\n\u001b[1;32m      4\u001b[0m     l\u001b[38;5;241m.\u001b[39mappend(i)\n\u001b[0;32m----> 5\u001b[0m     \u001b[38;5;28;01mif\u001b[39;00m \u001b[43ml\u001b[49m\u001b[43m[\u001b[49m\u001b[43mi\u001b[49m\u001b[43m]\u001b[49m\u001b[38;5;241m*\u001b[39ml[i]\u001b[38;5;241m*\u001b[39ml[i]\u001b[38;5;241m%\u001b[39m\u001b[38;5;241m4\u001b[39m\u001b[38;5;241m==\u001b[39m\u001b[38;5;241m0\u001b[39m \u001b[38;5;129;01mand\u001b[39;00m l[i]\u001b[38;5;241m*\u001b[39ml[i]\u001b[38;5;241m*\u001b[39ml[i]\u001b[38;5;241m%\u001b[39m\u001b[38;5;241m5\u001b[39m\u001b[38;5;241m==\u001b[39m\u001b[38;5;241m0\u001b[39m:\n\u001b[1;32m      6\u001b[0m         l1\u001b[38;5;241m.\u001b[39mappend\n\u001b[1;32m      7\u001b[0m         \u001b[38;5;28mprint\u001b[39m(\u001b[38;5;28mlist\u001b[39m(l1))\n",
      "\u001b[0;31mIndexError\u001b[0m: list index out of range"
     ]
    }
   ],
   "source": []
  },
  {
   "cell_type": "code",
   "execution_count": 5,
   "id": "469afb0c-c15e-4597-94a9-9c25094066a7",
   "metadata": {},
   "outputs": [
    {
     "name": "stdout",
     "output_type": "stream",
     "text": [
      "[10, 20, 30, 40, 50, 60, 70, 80, 90, 100]\n"
     ]
    }
   ],
   "source": [
    "#Qno.4\n",
    "l=[]\n",
    "l1=[]\n",
    "for i in range(1,101):\n",
    "      l.append(i)\n",
    "      if i*i*i % 4==0 and i*i*i %5==0:\n",
    "             l1.append(i)\n",
    "print(l1)\n"
   ]
  },
  {
   "cell_type": "code",
   "execution_count": 6,
   "id": "df571089-222d-4845-ae24-609e5b83bc67",
   "metadata": {},
   "outputs": [
    {
     "name": "stdin",
     "output_type": "stream",
     "text": [
      "please enter the string HII i am a boy\n"
     ]
    },
    {
     "name": "stdout",
     "output_type": "stream",
     "text": [
      "the no of vowel is  6\n"
     ]
    }
   ],
   "source": [
    "#Qno.5\n",
    "# in  this problem string is taken by the user \n",
    "string=str(input(\"please enter the string\"))\n",
    "j=0\n",
    "l=[\"a\",\"i\",\"o\",\"u\",\"e\",\"A\",\"E\",\"I\",\"O\",\"U\"]\n",
    "\n",
    "for i in range(0,len(string),1):\n",
    "      for h in range(0,len(l)):\n",
    "            if string[i]==l[h]:\n",
    "                  j+=1\n",
    "      else:\n",
    "           continue\n",
    "print(\"the no of vowel is \", j)"
   ]
  },
  {
   "cell_type": "code",
   "execution_count": null,
   "id": "ab8ac09d-fd28-49f8-8e74-a846a616d38b",
   "metadata": {},
   "outputs": [],
   "source": []
  }
 ],
 "metadata": {
  "kernelspec": {
   "display_name": "Python 3 (ipykernel)",
   "language": "python",
   "name": "python3"
  },
  "language_info": {
   "codemirror_mode": {
    "name": "ipython",
    "version": 3
   },
   "file_extension": ".py",
   "mimetype": "text/x-python",
   "name": "python",
   "nbconvert_exporter": "python",
   "pygments_lexer": "ipython3",
   "version": "3.10.8"
  }
 },
 "nbformat": 4,
 "nbformat_minor": 5
}
